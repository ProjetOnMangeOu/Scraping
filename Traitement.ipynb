{
 "cells": [
  {
   "cell_type": "code",
   "execution_count": 12,
   "metadata": {},
   "outputs": [],
   "source": [
    "import pandas as pd\n",
    "import re\n",
    "import json"
   ]
  },
  {
   "cell_type": "markdown",
   "metadata": {},
   "source": [
    "## Tairement de la donnée"
   ]
  },
  {
   "cell_type": "code",
   "execution_count": 3,
   "metadata": {},
   "outputs": [
    {
     "data": {
      "text/plain": [
       "(5, 11)"
      ]
     },
     "execution_count": 3,
     "metadata": {},
     "output_type": "execute_result"
    }
   ],
   "source": [
    "df = pd.read_json(\"data.json\")\n",
    "df.set_index(\"index\",inplace=True)\n",
    "df.shape\n"
   ]
  },
  {
   "cell_type": "code",
   "execution_count": 4,
   "metadata": {},
   "outputs": [
    {
     "data": {
      "text/plain": [
       "index\n",
       "1    Pancook Lille Zénith\n",
       "2             La Fossetta\n",
       "4                 Quai 38\n",
       "Name: name, dtype: object"
      ]
     },
     "execution_count": 4,
     "metadata": {},
     "output_type": "execute_result"
    }
   ],
   "source": [
    "df[df.duplicated(\"image\")][\"name\"]\n"
   ]
  },
  {
   "cell_type": "code",
   "execution_count": 5,
   "metadata": {},
   "outputs": [
    {
     "data": {
      "text/plain": [
       "index\n",
       "0       Restaurant italien\n",
       "1      Restaurant français\n",
       "2       Restaurant italien\n",
       "3               Restaurant\n",
       "4    Restaurant de poisson\n",
       "Name: type, dtype: object"
      ]
     },
     "execution_count": 5,
     "metadata": {},
     "output_type": "execute_result"
    }
   ],
   "source": [
    "df[\"type\"]"
   ]
  },
  {
   "cell_type": "code",
   "execution_count": 6,
   "metadata": {},
   "outputs": [],
   "source": [
    "df[\"googleMapRating\"] = df[\"googleMapRating\"].apply(lambda x : float(x.split(\"(\")[0].replace(\",\",\".\")))\n",
    "df[\"price\"] = df[\"price\"].apply(lambda x : len(x) if x is not None else 0)\n",
    "df[\"coordonne\"] = df[\"gmapLink\"].apply(lambda x : re.findall(r\"[0-9]{1,3}\\.[0-9]*!4d[0-9]{1,3}\\.[0-9]*\",x)[0].split(\"!4d\"))\n",
    "df[\"lat\"] = df[\"coordonne\"].apply(lambda x: x[0])\n",
    "df[\"long\"] = df[\"coordonne\"].apply(lambda x: x[1])\n",
    "df[\"phone\"] = df[\"info\"].apply(lambda x : re.search(r\"([0-9]{2} ){4}[0-9]{2}\",x).group().replace(\" \",\"\"))\n",
    "\n"
   ]
  },
  {
   "cell_type": "code",
   "execution_count": 7,
   "metadata": {},
   "outputs": [],
   "source": [
    "def getHorraires(x):\n",
    "    result = {}\n",
    "    for e in x :\n",
    "        splited = e.split(\",\")\n",
    "        data = [re.findall(r\"[0-9]{2}:[0-9]{2}\",i) for i in splited[1:]]\n",
    "        if data == [[]]:\n",
    "            data = None\n",
    "        result[splited[0]] = data\n",
    "    \n",
    "    return result\n",
    "\n",
    "df[\"restaurantHours\"] = df[\"heures\"].apply(getHorraires)"
   ]
  },
  {
   "cell_type": "code",
   "execution_count": 8,
   "metadata": {},
   "outputs": [],
   "source": [
    "def parseAbout(x):\n",
    "    returnDict = {}\n",
    "    for key , values in x.items():\n",
    "        valideValues = list(filter(lambda x : x[1].find(\"check_black_18dp\")>1,values))\n",
    "        if len(valideValues)>0:\n",
    "            returnDict[key] = [v[0] for v in valideValues]\n",
    "    return returnDict\n",
    "\n",
    "\n",
    "\n",
    "df[\"About\"] = df[\"About\"].apply(parseAbout)"
   ]
  },
  {
   "cell_type": "code",
   "execution_count": 23,
   "metadata": {},
   "outputs": [],
   "source": [
    "dropColumns= [\"info\",\"heures\",\"services\",\"coordonne\"]\n",
    "dropColumns = list(filter(None,df.apply(lambda x : x.name if x.name in dropColumns else None).to_list()))\n",
    "df.drop(columns=dropColumns,inplace=True)\n",
    "\n"
   ]
  },
  {
   "cell_type": "markdown",
   "metadata": {},
   "source": [
    "## AppWrite"
   ]
  },
  {
   "cell_type": "code",
   "execution_count": 31,
   "metadata": {},
   "outputs": [
    {
     "data": {
      "text/plain": [
       "True"
      ]
     },
     "execution_count": 31,
     "metadata": {},
     "output_type": "execute_result"
    }
   ],
   "source": [
    "from appwrite.client import Client\n",
    "from appwrite.services.databases import Databases\n",
    "from appwrite.id import ID\n",
    "\n",
    "from dotenv import load_dotenv\n",
    "import os \n",
    "\n",
    "load_dotenv()"
   ]
  },
  {
   "cell_type": "code",
   "execution_count": 27,
   "metadata": {},
   "outputs": [],
   "source": [
    "data = json.loads(df.to_json(orient=\"records\"))"
   ]
  },
  {
   "cell_type": "code",
   "execution_count": 39,
   "metadata": {},
   "outputs": [
    {
     "name": "stdout",
     "output_type": "stream",
     "text": [
      "66607d68000a930ee1cb\n",
      "{'min': 10, 'max': 15, 'currency': 'EUR', 'euroConvert': 1, '$id': '66608c5e000709492e6c', '$createdAt': '2024-06-05T16:03:42.776+00:00', '$updatedAt': '2024-06-14T09:09:16.353+00:00', '$permissions': [], '$databaseId': '66229a9dc4ac0a34af52', '$collectionId': '66607d68000a930ee1cb'}\n",
      "{'min': 15, 'max': 25, 'currency': 'EUR', 'euroConvert': 2, '$id': '66608c660032ee057208', '$createdAt': '2024-06-05T16:03:51.715+00:00', '$updatedAt': '2024-06-14T09:09:24.994+00:00', '$permissions': [], '$databaseId': '66229a9dc4ac0a34af52', '$collectionId': '66607d68000a930ee1cb'}\n",
      "{'min': 25, 'max': 50, 'currency': 'EUR', 'euroConvert': 3, '$id': '66608c720030d0369b39', '$createdAt': '2024-06-05T16:04:03.749+00:00', '$updatedAt': '2024-06-14T09:09:33.363+00:00', '$permissions': [], '$databaseId': '66229a9dc4ac0a34af52', '$collectionId': '66607d68000a930ee1cb'}\n",
      "{'min': 50, 'max': 100, 'currency': 'EUR', 'euroConvert': 4, '$id': '66608c80001dcc13cf44', '$createdAt': '2024-06-05T16:04:18.147+00:00', '$updatedAt': '2024-06-14T09:09:40.323+00:00', '$permissions': [], '$databaseId': '66229a9dc4ac0a34af52', '$collectionId': '66607d68000a930ee1cb'}\n"
     ]
    },
    {
     "name": "stderr",
     "output_type": "stream",
     "text": [
      "c:\\Users\\MaximeBOURRE\\PersoDir\\@PERSO\\Projet\\P2Q\\Scraping\\venv\\lib\\site-packages\\urllib3\\connectionpool.py:1103: InsecureRequestWarning: Unverified HTTPS request is being made to host 'cloud.appwrite.io'. Adding certificate verification is strongly advised. See: https://urllib3.readthedocs.io/en/latest/advanced-usage.html#tls-warnings\n",
      "  warnings.warn(\n"
     ]
    }
   ],
   "source": [
    "client = Client()\n",
    "\n",
    "(client\n",
    "  .set_endpoint('https://cloud.appwrite.io/v1') # Your API Endpoint\n",
    "  .set_project(os.getenv(\"projectId\")) # Your project ID\n",
    "  .set_key(os.getenv(\"apiKeyAppWrite\")) # Your secret API key\n",
    "  .set_self_signed() # Use only on dev mode with a self-signed SSL cert\n",
    ")\n",
    "\n",
    "\n",
    "databases = Databases(client)\n",
    "databaseId = os.getenv(\"databaseId\")\n",
    "\n",
    "\n",
    "priceRef = \"\"\n",
    "\n",
    "def getPrices():\n",
    "  prices = databases.list_documents(\n",
    "    database_id=databaseId,\n",
    "    collection_id=os.getenv(\"tableRestaurantPrice\")\n",
    "  )\n",
    "  print(os.getenv(\"tableRestaurantPrice\"))\n",
    "  return prices[\"documents\"]\n",
    "\n",
    "print(*getPrices(),sep=\"\\n\")\n",
    "for elem in data[:1]:\n",
    "    pass\n",
    "\n"
   ]
  }
 ],
 "metadata": {
  "kernelspec": {
   "display_name": "Scraping",
   "language": "python",
   "name": "python3"
  },
  "language_info": {
   "codemirror_mode": {
    "name": "ipython",
    "version": 3
   },
   "file_extension": ".py",
   "mimetype": "text/x-python",
   "name": "python",
   "nbconvert_exporter": "python",
   "pygments_lexer": "ipython3",
   "version": "3.10.0"
  }
 },
 "nbformat": 4,
 "nbformat_minor": 2
}
