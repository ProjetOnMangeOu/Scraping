{
 "cells": [
  {
   "cell_type": "code",
   "execution_count": 57,
   "metadata": {},
   "outputs": [],
   "source": [
    "import pandas as pd\n",
    "import re\n",
    "import json"
   ]
  },
  {
   "cell_type": "markdown",
   "metadata": {},
   "source": [
    "## Tairement de la donnée"
   ]
  },
  {
   "cell_type": "code",
   "execution_count": 58,
   "metadata": {},
   "outputs": [
    {
     "data": {
      "text/plain": [
       "(5, 11)"
      ]
     },
     "execution_count": 58,
     "metadata": {},
     "output_type": "execute_result"
    }
   ],
   "source": [
    "df = pd.read_json(\"data.json\")\n",
    "df.set_index(\"index\",inplace=True)\n",
    "df.shape\n"
   ]
  },
  {
   "cell_type": "code",
   "execution_count": 59,
   "metadata": {},
   "outputs": [],
   "source": [
    "df[\"googleMapRating\"] = df[\"googleMapRating\"].apply(lambda x : float(x.split(\"(\")[0].replace(\",\",\".\")))\n",
    "df[\"address\"] = df[\"address\"].apply(lambda x : x.replace(\"\",\"\"))\n",
    "df[\"website\"] = df[\"info\"].apply(lambda x : re.findall(r\">[a-zA-Z]*\\.[a-zA-Z]*<\",x))\n",
    "df[\"website\"] = df[\"website\"].apply(lambda x : \"https://\" + x[0][1:-1] if len(x) > 0 else \"\")\n",
    "df[\"price\"] = df[\"price\"].apply(lambda x : len(x) if x is not None else 0)\n",
    "df[\"coordonne\"] = df[\"gmapLink\"].apply(lambda x : re.findall(r\"[0-9]{1,3}\\.[0-9]*!4d[0-9]{1,3}\\.[0-9]*\",x)[0].split(\"!4d\"))\n",
    "df[\"lat\"] = df[\"coordonne\"].apply(lambda x: float(x[0]))\n",
    "df[\"long\"] = df[\"coordonne\"].apply(lambda x: float(x[1]))\n",
    "df[\"phone\"] = df[\"info\"].apply(lambda x : re.search(r\"([0-9]{2} ){4}[0-9]{2}\",x).group().replace(\" \",\"\"))\n"
   ]
  },
  {
   "cell_type": "code",
   "execution_count": 60,
   "metadata": {},
   "outputs": [],
   "source": [
    "def getHorraires(x):\n",
    "    result = {}\n",
    "    for e in x :\n",
    "        splited = e.split(\",\")\n",
    "        data = [re.findall(r\"[0-9]{2}:[0-9]{2}\",i) for i in splited[1:]]\n",
    "        if data == [[]]:\n",
    "            data = None\n",
    "        result[splited[0]] = data\n",
    "    \n",
    "    return result\n",
    "\n",
    "df[\"restaurantHours\"] = df[\"heures\"].apply(getHorraires)"
   ]
  },
  {
   "cell_type": "code",
   "execution_count": 61,
   "metadata": {},
   "outputs": [],
   "source": [
    "def parseAbout(x):\n",
    "    returnDict = {}\n",
    "    for key , values in x.items():\n",
    "        valideValues = list(filter(lambda x : x[1].find(\"check_black_18dp\")>1,values))\n",
    "        if len(valideValues)>0:\n",
    "            returnDict[key] = [v[0] for v in valideValues]\n",
    "    return returnDict\n",
    "\n",
    "\n",
    "\n",
    "df[\"restaurantService\"] = df[\"restaurantService\"].apply(parseAbout)"
   ]
  },
  {
   "cell_type": "code",
   "execution_count": 62,
   "metadata": {},
   "outputs": [],
   "source": [
    "dropColumns= [\"info\",\"heures\",\"services\",\"coordonne\",]\n",
    "dropColumns = list(filter(None,df.apply(lambda x : x.name if x.name in dropColumns else None).to_list()))\n",
    "df.drop(columns=dropColumns,inplace=True)\n",
    "\n"
   ]
  },
  {
   "cell_type": "code",
   "execution_count": 63,
   "metadata": {},
   "outputs": [
    {
     "data": {
      "text/html": [
       "<div>\n",
       "<style scoped>\n",
       "    .dataframe tbody tr th:only-of-type {\n",
       "        vertical-align: middle;\n",
       "    }\n",
       "\n",
       "    .dataframe tbody tr th {\n",
       "        vertical-align: top;\n",
       "    }\n",
       "\n",
       "    .dataframe thead th {\n",
       "        text-align: right;\n",
       "    }\n",
       "</style>\n",
       "<table border=\"1\" class=\"dataframe\">\n",
       "  <thead>\n",
       "    <tr style=\"text-align: right;\">\n",
       "      <th></th>\n",
       "      <th>gmapLink</th>\n",
       "      <th>image</th>\n",
       "      <th>name</th>\n",
       "      <th>googleMapRating</th>\n",
       "      <th>price</th>\n",
       "      <th>address</th>\n",
       "      <th>restaurantTypes</th>\n",
       "      <th>restaurantService</th>\n",
       "      <th>website</th>\n",
       "      <th>lat</th>\n",
       "      <th>long</th>\n",
       "      <th>phone</th>\n",
       "      <th>restaurantHours</th>\n",
       "    </tr>\n",
       "    <tr>\n",
       "      <th>index</th>\n",
       "      <th></th>\n",
       "      <th></th>\n",
       "      <th></th>\n",
       "      <th></th>\n",
       "      <th></th>\n",
       "      <th></th>\n",
       "      <th></th>\n",
       "      <th></th>\n",
       "      <th></th>\n",
       "      <th></th>\n",
       "      <th></th>\n",
       "      <th></th>\n",
       "      <th></th>\n",
       "    </tr>\n",
       "  </thead>\n",
       "  <tbody>\n",
       "    <tr>\n",
       "      <th>0</th>\n",
       "      <td>https://www.google.fr/maps/place/Il+Ristorante...</td>\n",
       "      <td>https://www.gstatic.com/images/icons/material/...</td>\n",
       "      <td>Il Ristorante - Le restaurant italien de Lille</td>\n",
       "      <td>4.2</td>\n",
       "      <td>2</td>\n",
       "      <td>51 Rue des Tanneurs, 59000 Lille</td>\n",
       "      <td>Restaurant italien</td>\n",
       "      <td>{'Accessibilité': ['Entrée accessible en faute...</td>\n",
       "      <td>https://ilristorante.fr</td>\n",
       "      <td>50.634102</td>\n",
       "      <td>3.066057</td>\n",
       "      <td>0320072112</td>\n",
       "      <td>{'vendredi': [['11:30', '14:30'], ['18:30', '2...</td>\n",
       "    </tr>\n",
       "    <tr>\n",
       "      <th>1</th>\n",
       "      <td>https://www.google.fr/maps/place/Pancook+Lille...</td>\n",
       "      <td>https://lh5.googleusercontent.com/p/AF1QipMh2j...</td>\n",
       "      <td>Pancook Lille Zénith</td>\n",
       "      <td>4.7</td>\n",
       "      <td>0</td>\n",
       "      <td>2 Av. du Président Hoover, 59000 Lille</td>\n",
       "      <td>Restaurant français</td>\n",
       "      <td>{'Services disponibles': ['Terrasse', 'Repas s...</td>\n",
       "      <td>https://pancook.fr</td>\n",
       "      <td>50.630924</td>\n",
       "      <td>3.076806</td>\n",
       "      <td>0374954646</td>\n",
       "      <td>{'vendredi': [['12:00', '14:00'], ['18:00', '2...</td>\n",
       "    </tr>\n",
       "    <tr>\n",
       "      <th>2</th>\n",
       "      <td>https://www.google.fr/maps/place/La+Fossetta/d...</td>\n",
       "      <td>https://lh5.googleusercontent.com/p/AF1QipMldZ...</td>\n",
       "      <td>La Fossetta</td>\n",
       "      <td>4.6</td>\n",
       "      <td>2</td>\n",
       "      <td>15 Rue des Fossés, 59000 Lille</td>\n",
       "      <td>Restaurant italien</td>\n",
       "      <td>{'Accessibilité': ['Places assises accessibles...</td>\n",
       "      <td>https://lafossetta.fr</td>\n",
       "      <td>50.634628</td>\n",
       "      <td>3.063033</td>\n",
       "      <td>0320578077</td>\n",
       "      <td>{'vendredi': [['12:00', '14:00'], ['19:00', '2...</td>\n",
       "    </tr>\n",
       "    <tr>\n",
       "      <th>3</th>\n",
       "      <td>https://www.google.fr/maps/place/Restaurant+S%...</td>\n",
       "      <td>https://lh5.googleusercontent.com/p/AF1QipNxyl...</td>\n",
       "      <td>Restaurant Sébastopol</td>\n",
       "      <td>4.7</td>\n",
       "      <td>2</td>\n",
       "      <td>1 Pl. Sébastopol, 59000 Lille</td>\n",
       "      <td>Restaurant</td>\n",
       "      <td>{'Accessibilité': ['Entrée accessible en faute...</td>\n",
       "      <td>https://restaurantsebastopol.com</td>\n",
       "      <td>50.628867</td>\n",
       "      <td>3.059011</td>\n",
       "      <td>0320131338</td>\n",
       "      <td>{'vendredi': [['12:00', '14:00'], ['19:00', '2...</td>\n",
       "    </tr>\n",
       "    <tr>\n",
       "      <th>4</th>\n",
       "      <td>https://www.google.fr/maps/place/Quai+38/data=...</td>\n",
       "      <td>https://lh5.googleusercontent.com/p/AF1QipPfA4...</td>\n",
       "      <td>Quai 38</td>\n",
       "      <td>4.8</td>\n",
       "      <td>0</td>\n",
       "      <td>38 Rue Saint-Sébastien, 59000 Lille</td>\n",
       "      <td>Restaurant de poisson</td>\n",
       "      <td>{'Accessibilité': ['Entrée accessible en faute...</td>\n",
       "      <td></td>\n",
       "      <td>50.646833</td>\n",
       "      <td>3.057715</td>\n",
       "      <td>0320421068</td>\n",
       "      <td>{'vendredi': [['12:00', '15:30'], ['19:30', '2...</td>\n",
       "    </tr>\n",
       "  </tbody>\n",
       "</table>\n",
       "</div>"
      ],
      "text/plain": [
       "                                                gmapLink  \\\n",
       "index                                                      \n",
       "0      https://www.google.fr/maps/place/Il+Ristorante...   \n",
       "1      https://www.google.fr/maps/place/Pancook+Lille...   \n",
       "2      https://www.google.fr/maps/place/La+Fossetta/d...   \n",
       "3      https://www.google.fr/maps/place/Restaurant+S%...   \n",
       "4      https://www.google.fr/maps/place/Quai+38/data=...   \n",
       "\n",
       "                                                   image  \\\n",
       "index                                                      \n",
       "0      https://www.gstatic.com/images/icons/material/...   \n",
       "1      https://lh5.googleusercontent.com/p/AF1QipMh2j...   \n",
       "2      https://lh5.googleusercontent.com/p/AF1QipMldZ...   \n",
       "3      https://lh5.googleusercontent.com/p/AF1QipNxyl...   \n",
       "4      https://lh5.googleusercontent.com/p/AF1QipPfA4...   \n",
       "\n",
       "                                                 name  googleMapRating  price  \\\n",
       "index                                                                           \n",
       "0      Il Ristorante - Le restaurant italien de Lille              4.2      2   \n",
       "1                                Pancook Lille Zénith              4.7      0   \n",
       "2                                         La Fossetta              4.6      2   \n",
       "3                               Restaurant Sébastopol              4.7      2   \n",
       "4                                             Quai 38              4.8      0   \n",
       "\n",
       "                                      address        restaurantTypes  \\\n",
       "index                                                                  \n",
       "0            51 Rue des Tanneurs, 59000 Lille     Restaurant italien   \n",
       "1      2 Av. du Président Hoover, 59000 Lille    Restaurant français   \n",
       "2              15 Rue des Fossés, 59000 Lille     Restaurant italien   \n",
       "3               1 Pl. Sébastopol, 59000 Lille             Restaurant   \n",
       "4         38 Rue Saint-Sébastien, 59000 Lille  Restaurant de poisson   \n",
       "\n",
       "                                       restaurantService  \\\n",
       "index                                                      \n",
       "0      {'Accessibilité': ['Entrée accessible en faute...   \n",
       "1      {'Services disponibles': ['Terrasse', 'Repas s...   \n",
       "2      {'Accessibilité': ['Places assises accessibles...   \n",
       "3      {'Accessibilité': ['Entrée accessible en faute...   \n",
       "4      {'Accessibilité': ['Entrée accessible en faute...   \n",
       "\n",
       "                                website        lat      long       phone  \\\n",
       "index                                                                      \n",
       "0               https://ilristorante.fr  50.634102  3.066057  0320072112   \n",
       "1                    https://pancook.fr  50.630924  3.076806  0374954646   \n",
       "2                 https://lafossetta.fr  50.634628  3.063033  0320578077   \n",
       "3      https://restaurantsebastopol.com  50.628867  3.059011  0320131338   \n",
       "4                                        50.646833  3.057715  0320421068   \n",
       "\n",
       "                                         restaurantHours  \n",
       "index                                                     \n",
       "0      {'vendredi': [['11:30', '14:30'], ['18:30', '2...  \n",
       "1      {'vendredi': [['12:00', '14:00'], ['18:00', '2...  \n",
       "2      {'vendredi': [['12:00', '14:00'], ['19:00', '2...  \n",
       "3      {'vendredi': [['12:00', '14:00'], ['19:00', '2...  \n",
       "4      {'vendredi': [['12:00', '15:30'], ['19:30', '2...  "
      ]
     },
     "execution_count": 63,
     "metadata": {},
     "output_type": "execute_result"
    }
   ],
   "source": [
    "df"
   ]
  },
  {
   "cell_type": "markdown",
   "metadata": {},
   "source": [
    "## AppWrite"
   ]
  },
  {
   "cell_type": "code",
   "execution_count": 64,
   "metadata": {},
   "outputs": [
    {
     "data": {
      "text/plain": [
       "True"
      ]
     },
     "execution_count": 64,
     "metadata": {},
     "output_type": "execute_result"
    }
   ],
   "source": [
    "from appwrite.client import Client\n",
    "from appwrite.services.databases import Databases\n",
    "from appwrite.id import ID\n",
    "\n",
    "from dotenv import load_dotenv\n",
    "import os \n",
    "\n",
    "load_dotenv()"
   ]
  },
  {
   "cell_type": "code",
   "execution_count": 65,
   "metadata": {},
   "outputs": [],
   "source": [
    "data = df.to_dict(orient=\"records\")"
   ]
  },
  {
   "cell_type": "code",
   "execution_count": 66,
   "metadata": {},
   "outputs": [
    {
     "name": "stderr",
     "output_type": "stream",
     "text": [
      "c:\\Users\\MaximeBOURRE\\PersoDir\\@PERSO\\Projet\\P2Q\\Scraping\\venv\\lib\\site-packages\\urllib3\\connectionpool.py:1103: InsecureRequestWarning: Unverified HTTPS request is being made to host 'cloud.appwrite.io'. Adding certificate verification is strongly advised. See: https://urllib3.readthedocs.io/en/latest/advanced-usage.html#tls-warnings\n",
      "  warnings.warn(\n"
     ]
    }
   ],
   "source": [
    "client = Client()\n",
    "\n",
    "(client\n",
    "  .set_endpoint('https://cloud.appwrite.io/v1') # Your API Endpoint\n",
    "  .set_project(\"onmangeou\") # Your project ID\n",
    "  .set_key(os.getenv(\"apiKeyAppWrite\")) # Your secret API key\n",
    "  .set_self_signed() # Use only on dev mode with a self-signed SSL cert\n",
    ")\n",
    "\n",
    "\n",
    "databases = Databases(client)\n",
    "\n",
    "\n",
    "priceRef  = databases.list_documents(\n",
    "    database_id=os.getenv(\"databaseId\"),\n",
    "    collection_id=os.getenv(\"tableRestaurantPrice\")\n",
    "  )[\"documents\"]\n"
   ]
  },
  {
   "cell_type": "code",
   "execution_count": 67,
   "metadata": {},
   "outputs": [],
   "source": [
    "def transformHours(hours):\n",
    "  formatedHours = []\n",
    "  for key ,values in hours.items():\n",
    "    for i in values : \n",
    "      formatedHours.append({\n",
    "        \"$id\":ID.unique(),\n",
    "        \"openingTime\":i[0],\n",
    "        \"closingTime\":i[1],\n",
    "        \"dayOfWeek\":key})\n",
    "  return formatedHours"
   ]
  },
  {
   "cell_type": "code",
   "execution_count": 68,
   "metadata": {},
   "outputs": [
    {
     "data": {
      "text/plain": [
       "float"
      ]
     },
     "execution_count": 68,
     "metadata": {},
     "output_type": "execute_result"
    }
   ],
   "source": [
    "type(data[0][\"lat\"])"
   ]
  },
  {
   "cell_type": "code",
   "execution_count": 69,
   "metadata": {},
   "outputs": [
    {
     "name": "stderr",
     "output_type": "stream",
     "text": [
      "c:\\Users\\MaximeBOURRE\\PersoDir\\@PERSO\\Projet\\P2Q\\Scraping\\venv\\lib\\site-packages\\urllib3\\connectionpool.py:1103: InsecureRequestWarning: Unverified HTTPS request is being made to host 'cloud.appwrite.io'. Adding certificate verification is strongly advised. See: https://urllib3.readthedocs.io/en/latest/advanced-usage.html#tls-warnings\n",
      "  warnings.warn(\n"
     ]
    },
    {
     "name": "stdout",
     "output_type": "stream",
     "text": [
      "666c59f8002d7e372e61\n"
     ]
    },
    {
     "ename": "AppwriteException",
     "evalue": "The current user is not authorized to perform the requested action.",
     "output_type": "error",
     "traceback": [
      "\u001b[1;31m---------------------------------------------------------------------------\u001b[0m",
      "\u001b[1;31mHTTPError\u001b[0m                                 Traceback (most recent call last)",
      "File \u001b[1;32mc:\\Users\\MaximeBOURRE\\PersoDir\\@PERSO\\Projet\\P2Q\\Scraping\\venv\\lib\\site-packages\\appwrite\\client.py:114\u001b[0m, in \u001b[0;36mClient.call\u001b[1;34m(self, method, path, headers, params, response_type)\u001b[0m\n\u001b[0;32m    103\u001b[0m response \u001b[38;5;241m=\u001b[39m requests\u001b[38;5;241m.\u001b[39mrequest(  \u001b[38;5;66;03m# call method dynamically https://stackoverflow.com/a/4246075/2299554\u001b[39;00m\n\u001b[0;32m    104\u001b[0m     method\u001b[38;5;241m=\u001b[39mmethod,\n\u001b[0;32m    105\u001b[0m     url\u001b[38;5;241m=\u001b[39m\u001b[38;5;28mself\u001b[39m\u001b[38;5;241m.\u001b[39m_endpoint \u001b[38;5;241m+\u001b[39m path,\n\u001b[1;32m   (...)\u001b[0m\n\u001b[0;32m    111\u001b[0m     allow_redirects\u001b[38;5;241m=\u001b[39m\u001b[38;5;28;01mFalse\u001b[39;00m \u001b[38;5;28;01mif\u001b[39;00m response_type \u001b[38;5;241m==\u001b[39m \u001b[38;5;124m'\u001b[39m\u001b[38;5;124mlocation\u001b[39m\u001b[38;5;124m'\u001b[39m \u001b[38;5;28;01melse\u001b[39;00m \u001b[38;5;28;01mTrue\u001b[39;00m\n\u001b[0;32m    112\u001b[0m )\n\u001b[1;32m--> 114\u001b[0m \u001b[43mresponse\u001b[49m\u001b[38;5;241;43m.\u001b[39;49m\u001b[43mraise_for_status\u001b[49m\u001b[43m(\u001b[49m\u001b[43m)\u001b[49m\n\u001b[0;32m    116\u001b[0m content_type \u001b[38;5;241m=\u001b[39m response\u001b[38;5;241m.\u001b[39mheaders[\u001b[38;5;124m'\u001b[39m\u001b[38;5;124mContent-Type\u001b[39m\u001b[38;5;124m'\u001b[39m]\n",
      "File \u001b[1;32mc:\\Users\\MaximeBOURRE\\PersoDir\\@PERSO\\Projet\\P2Q\\Scraping\\venv\\lib\\site-packages\\requests\\models.py:1024\u001b[0m, in \u001b[0;36mResponse.raise_for_status\u001b[1;34m(self)\u001b[0m\n\u001b[0;32m   1023\u001b[0m \u001b[38;5;28;01mif\u001b[39;00m http_error_msg:\n\u001b[1;32m-> 1024\u001b[0m     \u001b[38;5;28;01mraise\u001b[39;00m HTTPError(http_error_msg, response\u001b[38;5;241m=\u001b[39m\u001b[38;5;28mself\u001b[39m)\n",
      "\u001b[1;31mHTTPError\u001b[0m: 401 Client Error: Unauthorized for url: https://cloud.appwrite.io/v1/databases/66229a9dc4ac0a34af52/collections/66607bf4001566633ac7/documents",
      "\nDuring handling of the above exception, another exception occurred:\n",
      "\u001b[1;31mAppwriteException\u001b[0m                         Traceback (most recent call last)",
      "Cell \u001b[1;32mIn[69], line 17\u001b[0m\n\u001b[0;32m     15\u001b[0m \u001b[38;5;28mid\u001b[39m \u001b[38;5;241m=\u001b[39m ID\u001b[38;5;241m.\u001b[39munique()\n\u001b[0;32m     16\u001b[0m \u001b[38;5;28mprint\u001b[39m(ID\u001b[38;5;241m.\u001b[39munique())\n\u001b[1;32m---> 17\u001b[0m r \u001b[38;5;241m=\u001b[39m \u001b[43mdatabases\u001b[49m\u001b[38;5;241;43m.\u001b[39;49m\u001b[43mcreate_document\u001b[49m\u001b[43m(\u001b[49m\n\u001b[0;32m     18\u001b[0m \u001b[43m  \u001b[49m\u001b[43mdatabase_id\u001b[49m\u001b[38;5;241;43m=\u001b[39;49m\u001b[43mos\u001b[49m\u001b[38;5;241;43m.\u001b[39;49m\u001b[43mgetenv\u001b[49m\u001b[43m(\u001b[49m\u001b[38;5;124;43m\"\u001b[39;49m\u001b[38;5;124;43mdatabaseId\u001b[39;49m\u001b[38;5;124;43m\"\u001b[39;49m\u001b[43m)\u001b[49m\u001b[43m,\u001b[49m\n\u001b[0;32m     19\u001b[0m \u001b[43m  \u001b[49m\u001b[43mcollection_id\u001b[49m\u001b[38;5;241;43m=\u001b[39;49m\u001b[43mos\u001b[49m\u001b[38;5;241;43m.\u001b[39;49m\u001b[43mgetenv\u001b[49m\u001b[43m(\u001b[49m\u001b[38;5;124;43m\"\u001b[39;49m\u001b[38;5;124;43mtableRestaurant\u001b[39;49m\u001b[38;5;124;43m\"\u001b[39;49m\u001b[43m)\u001b[49m\u001b[43m,\u001b[49m\n\u001b[0;32m     20\u001b[0m \u001b[43m  \u001b[49m\u001b[43mdocument_id\u001b[49m\u001b[38;5;241;43m=\u001b[39;49m\u001b[38;5;28;43mid\u001b[39;49m\u001b[43m,\u001b[49m\n\u001b[0;32m     21\u001b[0m \u001b[43m  \u001b[49m\u001b[43mdata\u001b[49m\u001b[38;5;241;43m=\u001b[39;49m\u001b[43mdocData\u001b[49m\n\u001b[0;32m     22\u001b[0m \u001b[43m\u001b[49m\u001b[43m)\u001b[49m\n\u001b[0;32m     23\u001b[0m \u001b[38;5;28mprint\u001b[39m(r)\n",
      "File \u001b[1;32mc:\\Users\\MaximeBOURRE\\PersoDir\\@PERSO\\Projet\\P2Q\\Scraping\\venv\\lib\\site-packages\\appwrite\\services\\databases.py:945\u001b[0m, in \u001b[0;36mDatabases.create_document\u001b[1;34m(self, database_id, collection_id, document_id, data, permissions)\u001b[0m\n\u001b[0;32m    942\u001b[0m api_params[\u001b[38;5;124m'\u001b[39m\u001b[38;5;124mdata\u001b[39m\u001b[38;5;124m'\u001b[39m] \u001b[38;5;241m=\u001b[39m data\n\u001b[0;32m    943\u001b[0m api_params[\u001b[38;5;124m'\u001b[39m\u001b[38;5;124mpermissions\u001b[39m\u001b[38;5;124m'\u001b[39m] \u001b[38;5;241m=\u001b[39m permissions\n\u001b[1;32m--> 945\u001b[0m \u001b[38;5;28;01mreturn\u001b[39;00m \u001b[38;5;28;43mself\u001b[39;49m\u001b[38;5;241;43m.\u001b[39;49m\u001b[43mclient\u001b[49m\u001b[38;5;241;43m.\u001b[39;49m\u001b[43mcall\u001b[49m\u001b[43m(\u001b[49m\u001b[38;5;124;43m'\u001b[39;49m\u001b[38;5;124;43mpost\u001b[39;49m\u001b[38;5;124;43m'\u001b[39;49m\u001b[43m,\u001b[49m\u001b[43m \u001b[49m\u001b[43mapi_path\u001b[49m\u001b[43m,\u001b[49m\u001b[43m \u001b[49m\u001b[43m{\u001b[49m\n\u001b[0;32m    946\u001b[0m \u001b[43m    \u001b[49m\u001b[38;5;124;43m'\u001b[39;49m\u001b[38;5;124;43mcontent-type\u001b[39;49m\u001b[38;5;124;43m'\u001b[39;49m\u001b[43m:\u001b[49m\u001b[43m \u001b[49m\u001b[38;5;124;43m'\u001b[39;49m\u001b[38;5;124;43mapplication/json\u001b[39;49m\u001b[38;5;124;43m'\u001b[39;49m\u001b[43m,\u001b[49m\n\u001b[0;32m    947\u001b[0m \u001b[43m\u001b[49m\u001b[43m}\u001b[49m\u001b[43m,\u001b[49m\u001b[43m \u001b[49m\u001b[43mapi_params\u001b[49m\u001b[43m)\u001b[49m\n",
      "File \u001b[1;32mc:\\Users\\MaximeBOURRE\\PersoDir\\@PERSO\\Projet\\P2Q\\Scraping\\venv\\lib\\site-packages\\appwrite\\client.py:129\u001b[0m, in \u001b[0;36mClient.call\u001b[1;34m(self, method, path, headers, params, response_type)\u001b[0m\n\u001b[0;32m    127\u001b[0m content_type \u001b[38;5;241m=\u001b[39m response\u001b[38;5;241m.\u001b[39mheaders[\u001b[38;5;124m'\u001b[39m\u001b[38;5;124mContent-Type\u001b[39m\u001b[38;5;124m'\u001b[39m]\n\u001b[0;32m    128\u001b[0m \u001b[38;5;28;01mif\u001b[39;00m content_type\u001b[38;5;241m.\u001b[39mstartswith(\u001b[38;5;124m'\u001b[39m\u001b[38;5;124mapplication/json\u001b[39m\u001b[38;5;124m'\u001b[39m):\n\u001b[1;32m--> 129\u001b[0m     \u001b[38;5;28;01mraise\u001b[39;00m AppwriteException(response\u001b[38;5;241m.\u001b[39mjson()[\u001b[38;5;124m'\u001b[39m\u001b[38;5;124mmessage\u001b[39m\u001b[38;5;124m'\u001b[39m], response\u001b[38;5;241m.\u001b[39mstatus_code, response\u001b[38;5;241m.\u001b[39mjson()\u001b[38;5;241m.\u001b[39mget(\u001b[38;5;124m'\u001b[39m\u001b[38;5;124mtype\u001b[39m\u001b[38;5;124m'\u001b[39m), response\u001b[38;5;241m.\u001b[39mjson())\n\u001b[0;32m    130\u001b[0m \u001b[38;5;28;01melse\u001b[39;00m:\n\u001b[0;32m    131\u001b[0m     \u001b[38;5;28;01mraise\u001b[39;00m AppwriteException(response\u001b[38;5;241m.\u001b[39mtext, response\u001b[38;5;241m.\u001b[39mstatus_code)\n",
      "\u001b[1;31mAppwriteException\u001b[0m: The current user is not authorized to perform the requested action."
     ]
    }
   ],
   "source": [
    "def getPriceId(price):\n",
    "  if price is None :\n",
    "    id = list(filter(lambda x : x[\"euroConvert\"] == price,priceRef))\n",
    "  else:\n",
    "    id = list(filter(lambda x : x[\"euroConvert\"] == 1,priceRef))\n",
    "  return id\n",
    "  \n",
    "for elem in data:\n",
    "  docData = elem.copy()\n",
    "  docData[\"price\"] = getPriceId(docData[\"price\"])\n",
    "  docData[\"restaurantHours\"] = transformHours(docData[\"restaurantHours\"])\n",
    "  docData[\"restaurantTypes\"] = [{\"name\":docData[\"restaurantTypes\"]}]\n",
    "  docData[\"restaurantService\"] = [{\"$id\":ID.unique(),\"name\":k,\"details\":v} for k ,v in docData[\"restaurantService\"].items()]\n",
    "\n",
    "  id = ID.unique()\n",
    "  print(ID.unique())\n",
    "  r = databases.create_document(\n",
    "    database_id=os.getenv(\"databaseId\"),\n",
    "    collection_id=os.getenv(\"tableRestaurant\"),\n",
    "    document_id=id,\n",
    "    data=docData\n",
    "  )\n",
    "  print(r)\n"
   ]
  },
  {
   "cell_type": "code",
   "execution_count": null,
   "metadata": {},
   "outputs": [
    {
     "data": {
      "text/plain": [
       "'666c533000226a737e36'"
      ]
     },
     "execution_count": 29,
     "metadata": {},
     "output_type": "execute_result"
    }
   ],
   "source": [
    "r[\"$id\"]"
   ]
  }
 ],
 "metadata": {
  "kernelspec": {
   "display_name": "Scraping",
   "language": "python",
   "name": "python3"
  },
  "language_info": {
   "codemirror_mode": {
    "name": "ipython",
    "version": 3
   },
   "file_extension": ".py",
   "mimetype": "text/x-python",
   "name": "python",
   "nbconvert_exporter": "python",
   "pygments_lexer": "ipython3",
   "version": "3.10.0"
  }
 },
 "nbformat": 4,
 "nbformat_minor": 2
}
