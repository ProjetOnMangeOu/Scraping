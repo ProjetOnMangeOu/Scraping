{
 "cells": [
  {
   "cell_type": "markdown",
   "metadata": {},
   "source": [
    "# Post Scrapping\n"
   ]
  },
  {
   "cell_type": "markdown",
   "metadata": {},
   "source": [
    "## Introduction : \n",
    "\n",
    "**How to use :** \n",
    "\n",
    "installer python 3.10 \n",
    "ne pas oublier de le mettre dans les variables d'environnement\n",
    "\n",
    "crée un environnement python ```python -m venv venv```\n",
    "\n",
    "activer l'environnement ```venv\\Scripts\\Activate```\n",
    "\n",
    "Installer les packages ```pip install -r --no-cache-dir requirements.txt```\n",
    "\n",
    "Vous êtes a travailler "
   ]
  },
  {
   "cell_type": "markdown",
   "metadata": {},
   "source": [
    "## Script : "
   ]
  },
  {
   "cell_type": "code",
   "execution_count": 1,
   "metadata": {},
   "outputs": [
    {
     "data": {
      "text/plain": [
       "True"
      ]
     },
     "execution_count": 1,
     "metadata": {},
     "output_type": "execute_result"
    }
   ],
   "source": [
    "import pandas as pd\n",
    "import re\n",
    "import json\n",
    "import urllib3\n",
    "from appwrite.client import Client\n",
    "from appwrite.services.databases import Databases\n",
    "from appwrite.id import ID\n",
    "from appwrite.query import Query\n",
    "\n",
    "from dotenv import load_dotenv\n",
    "import os\n",
    "\n",
    "load_dotenv()"
   ]
  },
  {
   "cell_type": "code",
   "execution_count": 2,
   "metadata": {},
   "outputs": [],
   "source": [
    "client = Client()\n",
    "\n",
    "client.set_endpoint(\"https://cloud.appwrite.io/v1\")  # Your API Endpoint\n",
    "client.set_project(\"onmangeou\")  # Your project ID\n",
    "client.set_key(os.getenv(\"apiKeyAppWrite\"))  # Your secret API key\n",
    "\n",
    "\n",
    "databases = Databases(client)\n",
    "\n",
    "\n",
    "priceRef = databases.list_documents(\n",
    "    database_id=os.getenv(\"databaseId\"), collection_id=os.getenv(\"tableRestaurantPrice\")\n",
    ")[\"documents\"]"
   ]
  },
  {
   "cell_type": "markdown",
   "metadata": {},
   "source": [
    "## Tairement de la donnée"
   ]
  },
  {
   "cell_type": "code",
   "execution_count": 3,
   "metadata": {},
   "outputs": [
    {
     "data": {
      "text/plain": [
       "(5, 11)"
      ]
     },
     "execution_count": 3,
     "metadata": {},
     "output_type": "execute_result"
    }
   ],
   "source": [
    "df = pd.read_json(\"data.json\")\n",
    "df[\"name\"] = df[\"name\"].apply(lambda x: x[:49])\n",
    "output = df[[\"index\",\"name\",\"gmapLink\"]].copy()\n",
    "output.set_index(\"index\",inplace=True)\n",
    "df.set_index(\"index\", inplace=True)\n",
    "df.shape"
   ]
  },
  {
   "cell_type": "code",
   "execution_count": 4,
   "metadata": {},
   "outputs": [],
   "source": [
    "def getWebsite(elem):\n",
    "    url = re.findall(r\">[a-zA-Z]*\\.[a-zA-Z]*<\", elem)\n",
    "    if len(url)>0 : \n",
    "        url = url[0][1:-1]\n",
    "        if url.find(\"https://\") == -1 : \n",
    "            url = \"https://\" + url\n",
    "    else : \n",
    "        url = \"https://www.google.fr/maps\"\n",
    "    return url\n",
    "\n",
    "def getPhone(elem):\n",
    "    regex = re.search(r\"([0-9]{1,3} ){4}[0-9]{1,3}\", elem)\n",
    "    if regex is not None:\n",
    "        phone = regex.group().replace(\" \",\"\")\n",
    "        return phone\n",
    "\n",
    "def getPriceId(price):\n",
    "    if price is None or type(price) == float:\n",
    "        id = list(filter(lambda x: x[\"euroConvert\"] == 1, priceRef))\n",
    "    else:\n",
    "        id = list(filter(lambda x: x[\"euroConvert\"] == len(price), priceRef))\n",
    "    return id[0][\"$id\"] "
   ]
  },
  {
   "cell_type": "code",
   "execution_count": 5,
   "metadata": {},
   "outputs": [],
   "source": [
    "def gethours(elem):\n",
    "    if elem is not None:\n",
    "        formatedHours = []\n",
    "        for hoursStr in elem:\n",
    "            splited = hoursStr.split(\",\")\n",
    "            for hourStamp in splited[1:]:\n",
    "                hours = re.findall(r\"[0-9]{2}:[0-9]{2}\", hourStamp)\n",
    "                if not hours == []:\n",
    "                    formatedHours.append(\n",
    "                            {\"openingTime\": hours[0], \"closingTime\": hours[1], \"dayOfWeek\": splited[0]}\n",
    "                        )\n",
    "\n",
    "\n",
    "        return formatedHours\n",
    "\n",
    "def parseAbout(elem):\n",
    "    returnDict = []\n",
    "    for key, values in elem.items():\n",
    "        valideValues = list(filter(lambda x: x[1].find(\"check_black_18dp\") > 1, values))\n",
    "        if len(valideValues) > 0:\n",
    "            returnDict.append({\"name\":key,\"details\":[v[0] for v in valideValues]})\n",
    "    return returnDict\n",
    "\n"
   ]
  },
  {
   "cell_type": "code",
   "execution_count": 6,
   "metadata": {},
   "outputs": [],
   "source": [
    "df[\"website\"] = df[\"info\"].apply(getWebsite)\n",
    "df[\"coordonne\"] = df[\"gmapLink\"].apply(\n",
    "    lambda x: re.findall(r\"[0-9]{1,3}\\.[0-9]*!4d[0-9]{1,3}\\.[0-9]*\", x)[0].split(\"!4d\")\n",
    ")"
   ]
  },
  {
   "cell_type": "code",
   "execution_count": 11,
   "metadata": {},
   "outputs": [],
   "source": [
    "# df[\"lenPrice\"] = df[\"price\"].apply(lambda x: len(x) if x is not None else 0)\n",
    "df[\"googleMapRating\"] = df[\"googleMapRating\"].apply(\n",
    "    lambda x: float(x.split(\"(\")[0].replace(\",\", \".\"))\n",
    ")\n",
    "df[\"address\"] = df[\"address\"].apply(lambda x: x.replace(\"\", \"\"))"
   ]
  },
  {
   "cell_type": "code",
   "execution_count": 12,
   "metadata": {},
   "outputs": [],
   "source": [
    "\n",
    "output[\"image\"] = df[\"image\"]\n",
    "output[\"googleMapRating\"] = df[\"googleMapRating\"] \n",
    "output[\"price\"] = df[\"price\"].apply(getPriceId)\n",
    "output[\"address\"] = df[\"address\"]\n",
    "output[\"restaurantTypes\"] = df[\"restaurantTypes\"].apply(lambda x: [{\"name\":x}])\n",
    "output[\"restaurantService\"] = df[\"restaurantService\"].apply(parseAbout)\n",
    "output[\"website\"] = df[\"info\"].apply(getWebsite)\n",
    "output[\"lat\"] = df[\"coordonne\"].apply(lambda x: float(x[0]))\n",
    "output[\"long\"] = df[\"coordonne\"].apply(lambda x: float(x[1]))\n",
    "output[\"phone\"] = df[\"info\"].apply(getPhone)\n",
    "output[\"restaurantHours\"] = df[\"heures\"].apply(gethours)"
   ]
  },
  {
   "cell_type": "markdown",
   "metadata": {},
   "source": [
    "## AppWrite"
   ]
  },
  {
   "cell_type": "code",
   "execution_count": 13,
   "metadata": {},
   "outputs": [
    {
     "name": "stdout",
     "output_type": "stream",
     "text": [
      "allready exist False\n",
      "allready exist False\n",
      "allready exist False\n",
      "allready exist False\n",
      "allready exist False\n"
     ]
    }
   ],
   "source": [
    "data = output.to_dict(orient=\"records\")\n",
    "retour = []\n",
    "for elem in data:\n",
    "    searchExisting = databases.list_documents(\n",
    "        database_id=os.getenv(\"databaseId\"),\n",
    "        collection_id=os.getenv(\"tableRestaurant\"),\n",
    "        queries=[\n",
    "            Query.equal(\"lat\", elem[\"lat\"]),\n",
    "            Query.equal(\"long\", elem[\"long\"]),\n",
    "        ],\n",
    "    )[\"documents\"]\n",
    "    \n",
    "    if not len(searchExisting) > 0:\n",
    "        print(\"allready exist\", len(searchExisting) > 0)\n",
    "        retour.append(elem)\n",
    "        iddocs = ID.unique()\n",
    "        r = databases.create_document(\n",
    "            database_id=os.getenv(\"databaseId\"),\n",
    "            collection_id=os.getenv(\"tableRestaurant\"),\n",
    "            document_id=iddocs,\n",
    "            data=elem,\n",
    "        )\n",
    "\n"
   ]
  },
  {
   "cell_type": "code",
   "execution_count": null,
   "metadata": {},
   "outputs": [
    {
     "data": {
      "text/plain": [
       "{'name': 'Itsy Bitsy',\n",
       " 'gmapLink': 'https://www.google.fr/maps/place/Itsy+Bitsy/data=!4m7!3m6!1s0x47c2d584ad61e47b:0x5ed0698c8d0522fe!8m2!3d50.6317613!4d3.0629843!16s%2Fg%2F11g0h1z9zb!19sChIJe-RhrYTVwkcR_iIFjYxp0F4?authuser=0&hl=fr&rclk=1',\n",
       " 'image': 'https://lh5.googleusercontent.com/p/AF1QipOyRyITAQaa74d8LQ-Z6CMJC2rxV7RxEDTUK-KS=w408-h306-k-no',\n",
       " 'googleMapRating': 4.7,\n",
       " 'price': '66608c5e000709492e6c',\n",
       " 'address': '10 Rue Jeanne Maillotte, 59800 Lille',\n",
       " 'restaurantTypes': [{'name': 'Restaurant végétalien'}],\n",
       " 'restaurantService': [{'name': 'Accessibilité',\n",
       "   'details': ['Places assises accessibles en fauteuil roulant',\n",
       "    'Toilettes accessibles en fauteuil roulant']},\n",
       "  {'name': 'Services disponibles',\n",
       "   'details': ['Terrasse', 'Vente à emporter', 'Repas sur place']},\n",
       "  {'name': 'Offre',\n",
       "   'details': ['Alcools',\n",
       "    'Bière',\n",
       "    'Cafés',\n",
       "    'Convient aux végétariens',\n",
       "    'Petites portions à partager',\n",
       "    'Plats végétaliens',\n",
       "    'Produits sains',\n",
       "    'Vin']},\n",
       "  {'name': 'Services de restauration',\n",
       "   'details': ['Petit déjeuner',\n",
       "    'Brunch',\n",
       "    'Déjeuner',\n",
       "    'Dîner',\n",
       "    'Traiteur',\n",
       "    'Desserts',\n",
       "    'Places assises']},\n",
       "  {'name': 'Services', 'details': ['Toilettes', 'Wi-Fi', 'Wi-Fi gratuit']},\n",
       "  {'name': 'Ambiance', 'details': ['Chaleureux', 'Décontracté']},\n",
       "  {'name': 'Clientèle', 'details': ['Adapté aux familles']},\n",
       "  {'name': 'Planning', 'details': ['Réservations acceptées']},\n",
       "  {'name': 'Paiements',\n",
       "   'details': ['Cartes de crédit',\n",
       "    'Cartes de paiement',\n",
       "    'Paiements mobiles NFC',\n",
       "    'Pluxee',\n",
       "    'Titres restaurant',\n",
       "    'Cartes de crédit']},\n",
       "  {'name': 'Enfants', 'details': ['Convient aux enfants']},\n",
       "  {'name': 'Animaux de compagnie',\n",
       "   'details': ['Chiens admis',\n",
       "    \"Chiens autorisés à l'extérieur\",\n",
       "    \"Chiens autorisés à l'intérieur\"]}],\n",
       " 'website': 'https://facebook.com',\n",
       " 'lat': 50.6317613,\n",
       " 'long': 3.0629843,\n",
       " 'phone': '0320875764',\n",
       " 'restaurantHours': [{'openingTime': '12:00',\n",
       "   'closingTime': '14:30',\n",
       "   'dayOfWeek': 'mardi'},\n",
       "  {'openingTime': '12:00', 'closingTime': '14:30', 'dayOfWeek': ' mercredi'},\n",
       "  {'openingTime': '12:00', 'closingTime': '14:30', 'dayOfWeek': ' jeudi'},\n",
       "  {'openingTime': '12:00', 'closingTime': '14:30', 'dayOfWeek': ' vendredi'},\n",
       "  {'openingTime': '18:30', 'closingTime': '21:30', 'dayOfWeek': ' vendredi'},\n",
       "  {'openingTime': '12:00', 'closingTime': '14:30', 'dayOfWeek': ' samedi'},\n",
       "  {'openingTime': '18:30', 'closingTime': '21:30', 'dayOfWeek': ' samedi'}]}"
      ]
     },
     "execution_count": 190,
     "metadata": {},
     "output_type": "execute_result"
    }
   ],
   "source": [
    "retour[-1]"
   ]
  },
  {
   "cell_type": "code",
   "execution_count": null,
   "metadata": {},
   "outputs": [
    {
     "ename": "SyntaxError",
     "evalue": "'[' was never closed (3628723250.py, line 1)",
     "output_type": "error",
     "traceback": [
      "\u001b[1;36m  Cell \u001b[1;32mIn[191], line 1\u001b[1;36m\u001b[0m\n\u001b[1;33m    retour[\u001b[0m\n\u001b[1;37m          ^\u001b[0m\n\u001b[1;31mSyntaxError\u001b[0m\u001b[1;31m:\u001b[0m '[' was never closed\n"
     ]
    }
   ],
   "source": [
    "retour["
   ]
  }
 ],
 "metadata": {
  "kernelspec": {
   "display_name": "Scraping",
   "language": "python",
   "name": "python3"
  },
  "language_info": {
   "codemirror_mode": {
    "name": "ipython",
    "version": 3
   },
   "file_extension": ".py",
   "mimetype": "text/x-python",
   "name": "python",
   "nbconvert_exporter": "python",
   "pygments_lexer": "ipython3",
   "version": "3.10.0"
  }
 },
 "nbformat": 4,
 "nbformat_minor": 2
}
